{
 "cells": [
  {
   "cell_type": "code",
   "execution_count": 2,
   "metadata": {},
   "outputs": [],
   "source": [
    "import pandas as pd"
   ]
  },
  {
   "cell_type": "code",
   "execution_count": 9,
   "metadata": {},
   "outputs": [],
   "source": [
    "# Load the dataset\n",
    "race2010 = pd.read_csv(\"datasets/race in boston for 2020 and 2010/DECENNIALPL2010.csv\")\n",
    "race2020 = pd.read_csv(\"datasets/race in boston for 2020 and 2010/DECENNIALPL2020.csv\")\n"
   ]
  },
  {
   "cell_type": "code",
   "execution_count": 18,
   "metadata": {},
   "outputs": [],
   "source": [
    "R2010 = race2010.iloc[1:,[1,3,4,5,6,7,8,9]]\n",
    "\n",
    "R2010.columns = ['Geographic Area Name','total population','White','Black or African American','American Indian and Alaska Native','Asian','Native Hawaiian and Other Pacific Islander','Some Other Race']"
   ]
  },
  {
   "cell_type": "code",
   "execution_count": 20,
   "metadata": {},
   "outputs": [],
   "source": [
    "R2020 = race2020.iloc[1:,[1,3,4,5,6,7,8,9]]\n",
    "\n",
    "R2020.columns = ['Geographic Area Name','total population','White','Black or African American','American Indian and Alaska Native','Asian','Native Hawaiian and Other Pacific Islander','Some Other Race']"
   ]
  }
 ],
 "metadata": {
  "interpreter": {
   "hash": "bd2e637a70a200b3ebcab9c346823b324e3cae506e7b662da0792a7bb4adc9ef"
  },
  "kernelspec": {
   "display_name": "Python 3.9.7 64-bit",
   "name": "python3"
  },
  "language_info": {
   "codemirror_mode": {
    "name": "ipython",
    "version": 3
   },
   "file_extension": ".py",
   "mimetype": "text/x-python",
   "name": "python",
   "nbconvert_exporter": "python",
   "pygments_lexer": "ipython3",
   "version": "3.9.7"
  },
  "orig_nbformat": 4
 },
 "nbformat": 4,
 "nbformat_minor": 2
}
