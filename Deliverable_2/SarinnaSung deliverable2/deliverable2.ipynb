{
 "cells": [
  {
   "cell_type": "code",
   "execution_count": 168,
   "metadata": {},
   "outputs": [
    {
     "data": {
      "text/html": [
       "<div>\n",
       "<style scoped>\n",
       "    .dataframe tbody tr th:only-of-type {\n",
       "        vertical-align: middle;\n",
       "    }\n",
       "\n",
       "    .dataframe tbody tr th {\n",
       "        vertical-align: top;\n",
       "    }\n",
       "\n",
       "    .dataframe thead th {\n",
       "        text-align: right;\n",
       "    }\n",
       "</style>\n",
       "<table border=\"1\" class=\"dataframe\">\n",
       "  <thead>\n",
       "    <tr style=\"text-align: right;\">\n",
       "      <th></th>\n",
       "      <th>ID Race</th>\n",
       "      <th>Race</th>\n",
       "      <th>ID Year</th>\n",
       "      <th>Year</th>\n",
       "      <th>ID Workforce Status</th>\n",
       "      <th>Workforce Status</th>\n",
       "      <th>ID Detailed Occupation</th>\n",
       "      <th>Detailed Occupation</th>\n",
       "      <th>Average Wage</th>\n",
       "      <th>Average Wage Appx MOE</th>\n",
       "      <th>Total Population</th>\n",
       "      <th>Total Population MOE Appx</th>\n",
       "      <th>Record Count</th>\n",
       "      <th>Geography</th>\n",
       "      <th>ID Geography</th>\n",
       "    </tr>\n",
       "  </thead>\n",
       "  <tbody>\n",
       "    <tr>\n",
       "      <th>0</th>\n",
       "      <td>6</td>\n",
       "      <td>Asian</td>\n",
       "      <td>2019</td>\n",
       "      <td>2019</td>\n",
       "      <td>True</td>\n",
       "      <td>True</td>\n",
       "      <td>1191XX</td>\n",
       "      <td>Other managers</td>\n",
       "      <td>154309.08480</td>\n",
       "      <td>24189.709270</td>\n",
       "      <td>7917</td>\n",
       "      <td>2182.055703</td>\n",
       "      <td>85</td>\n",
       "      <td>Massachusetts</td>\n",
       "      <td>04000US25</td>\n",
       "    </tr>\n",
       "    <tr>\n",
       "      <th>1</th>\n",
       "      <td>6</td>\n",
       "      <td>Asian</td>\n",
       "      <td>2019</td>\n",
       "      <td>2019</td>\n",
       "      <td>True</td>\n",
       "      <td>True</td>\n",
       "      <td>291141</td>\n",
       "      <td>Registered nurses</td>\n",
       "      <td>89570.21639</td>\n",
       "      <td>22120.566740</td>\n",
       "      <td>3697</td>\n",
       "      <td>1492.008018</td>\n",
       "      <td>36</td>\n",
       "      <td>Massachusetts</td>\n",
       "      <td>04000US25</td>\n",
       "    </tr>\n",
       "    <tr>\n",
       "      <th>2</th>\n",
       "      <td>6</td>\n",
       "      <td>Asian</td>\n",
       "      <td>2019</td>\n",
       "      <td>2019</td>\n",
       "      <td>True</td>\n",
       "      <td>True</td>\n",
       "      <td>151252</td>\n",
       "      <td>Software developers</td>\n",
       "      <td>118663.43660</td>\n",
       "      <td>10256.178140</td>\n",
       "      <td>21267</td>\n",
       "      <td>3569.530761</td>\n",
       "      <td>211</td>\n",
       "      <td>Massachusetts</td>\n",
       "      <td>04000US25</td>\n",
       "    </tr>\n",
       "    <tr>\n",
       "      <th>3</th>\n",
       "      <td>6</td>\n",
       "      <td>Asian</td>\n",
       "      <td>2019</td>\n",
       "      <td>2019</td>\n",
       "      <td>True</td>\n",
       "      <td>True</td>\n",
       "      <td>252020</td>\n",
       "      <td>Elementary &amp; middle school teachers</td>\n",
       "      <td>31579.58759</td>\n",
       "      <td>14305.257840</td>\n",
       "      <td>2643</td>\n",
       "      <td>1261.711707</td>\n",
       "      <td>29</td>\n",
       "      <td>Massachusetts</td>\n",
       "      <td>04000US25</td>\n",
       "    </tr>\n",
       "    <tr>\n",
       "      <th>4</th>\n",
       "      <td>6</td>\n",
       "      <td>Asian</td>\n",
       "      <td>2019</td>\n",
       "      <td>2019</td>\n",
       "      <td>True</td>\n",
       "      <td>True</td>\n",
       "      <td>412010</td>\n",
       "      <td>Cashiers</td>\n",
       "      <td>22287.13241</td>\n",
       "      <td>6680.244652</td>\n",
       "      <td>5604</td>\n",
       "      <td>1836.443725</td>\n",
       "      <td>48</td>\n",
       "      <td>Massachusetts</td>\n",
       "      <td>04000US25</td>\n",
       "    </tr>\n",
       "  </tbody>\n",
       "</table>\n",
       "</div>"
      ],
      "text/plain": [
       "   ID Race   Race  ID Year  Year  ID Workforce Status  Workforce Status  \\\n",
       "0        6  Asian     2019  2019                 True              True   \n",
       "1        6  Asian     2019  2019                 True              True   \n",
       "2        6  Asian     2019  2019                 True              True   \n",
       "3        6  Asian     2019  2019                 True              True   \n",
       "4        6  Asian     2019  2019                 True              True   \n",
       "\n",
       "  ID Detailed Occupation                  Detailed Occupation  Average Wage  \\\n",
       "0                 1191XX                       Other managers  154309.08480   \n",
       "1                 291141                    Registered nurses   89570.21639   \n",
       "2                 151252                  Software developers  118663.43660   \n",
       "3                 252020  Elementary & middle school teachers   31579.58759   \n",
       "4                 412010                             Cashiers   22287.13241   \n",
       "\n",
       "   Average Wage Appx MOE  Total Population  Total Population MOE Appx  \\\n",
       "0           24189.709270              7917                2182.055703   \n",
       "1           22120.566740              3697                1492.008018   \n",
       "2           10256.178140             21267                3569.530761   \n",
       "3           14305.257840              2643                1261.711707   \n",
       "4            6680.244652              5604                1836.443725   \n",
       "\n",
       "   Record Count      Geography ID Geography  \n",
       "0            85  Massachusetts    04000US25  \n",
       "1            36  Massachusetts    04000US25  \n",
       "2           211  Massachusetts    04000US25  \n",
       "3            29  Massachusetts    04000US25  \n",
       "4            48  Massachusetts    04000US25  "
      ]
     },
     "execution_count": 168,
     "metadata": {},
     "output_type": "execute_result"
    }
   ],
   "source": [
    "import pandas as pd\n",
    "import matplotlib.pyplot as plt\n",
    "\n",
    "\n",
    "df = pd.read_csv(\"Asians.csv\")\n",
    "df.head()\n"
   ]
  },
  {
   "cell_type": "code",
   "execution_count": 169,
   "metadata": {},
   "outputs": [
    {
     "data": {
      "text/plain": [
       "0    154309.08480\n",
       "1     89570.21639\n",
       "2    118663.43660\n",
       "3     31579.58759\n",
       "4     22287.13241\n",
       "Name: Average Wage, dtype: float64"
      ]
     },
     "execution_count": 169,
     "metadata": {},
     "output_type": "execute_result"
    }
   ],
   "source": [
    "dex1 = df['Average Wage']\n",
    "dex1.head()"
   ]
  },
  {
   "cell_type": "code",
   "execution_count": 170,
   "metadata": {},
   "outputs": [
    {
     "data": {
      "image/png": "[encoded data removed]",
      "text/plain": [
       "<Figure size 432x288 with 1 Axes>"
      ]
     },
     "metadata": {
      "needs_background": "light"
     },
     "output_type": "display_data"
    }
   ],
   "source": [
    "plt.title(\"Asian Wages 2019 \")\n",
    "\n",
    "fig1 = plt.hist(dex1, rwidth=0.5)\n",
    "\n",
    "plt.show()\n"
   ]
  },
  {
   "cell_type": "code",
   "execution_count": 179,
   "metadata": {},
   "outputs": [
    {
     "data": {
      "image/png": "[encoded data removed]",
      "text/plain": [
       "<Figure size 432x288 with 1 Axes>"
      ]
     },
     "metadata": {
      "needs_background": "light"
     },
     "output_type": "display_data"
    }
   ],
   "source": [
    "import pandas as pd\n",
    "import matplotlib.pyplot as plt\n",
    "\n",
    "\n",
    "df = pd.read_csv(\"wages1.csv\")\n",
    "df.head()\n",
    "dex1 = df['Average Wage']\n",
    "dex1.head()\n",
    "plt.title(\"Wages for all races 2019 \")\n",
    "\n",
    "fig1 = plt.hist(dex1, rwidth=0.5)\n",
    "\n",
    "plt.show()\n"
   ]
  }
 ],
 "metadata": {
  "interpreter": {
   "hash": "621d13efdaac337f97e81600b824d8b22967bf65724a82b01204f7a80a110b0d"
  },
  "kernelspec": {
   "display_name": "Python 3.8.8 64-bit ('base': conda)",
   "language": "python",
   "name": "python3"
  },
  "language_info": {
   "codemirror_mode": {
    "name": "ipython",
    "version": 3
   },
   "file_extension": ".py",
   "mimetype": "text/x-python",
   "name": "python",
   "nbconvert_exporter": "python",
   "pygments_lexer": "ipython3",
   "version": "3.8.8"
  },
  "orig_nbformat": 4
 },
 "nbformat": 4,
 "nbformat_minor": 2
}
