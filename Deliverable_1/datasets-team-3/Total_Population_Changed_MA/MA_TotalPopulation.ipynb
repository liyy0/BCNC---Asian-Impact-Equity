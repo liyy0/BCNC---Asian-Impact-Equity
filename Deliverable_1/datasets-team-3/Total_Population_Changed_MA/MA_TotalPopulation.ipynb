{
 "metadata": {
  "language_info": {
   "codemirror_mode": {
    "name": "ipython",
    "version": 3
   },
   "file_extension": ".py",
   "mimetype": "text/x-python",
   "name": "python",
   "nbconvert_exporter": "python",
   "pygments_lexer": "ipython3",
   "version": "3.7.3-final"
  },
  "orig_nbformat": 2,
  "kernelspec": {
   "name": "python3",
   "display_name": "Python 3"
  }
 },
 "nbformat": 4,
 "nbformat_minor": 2,
 "cells": [
  {
   "cell_type": "code",
   "execution_count": 1,
   "metadata": {},
   "outputs": [],
   "source": [
    "import pandas as pd\n",
    "df = pd.read_excel(\"./datasets/co-est2019-annres-25.xlsx\")"
   ]
  },
  {
   "cell_type": "code",
   "execution_count": 2,
   "metadata": {},
   "outputs": [
    {
     "output_type": "execute_result",
     "data": {
      "text/plain": [
       "   table with row headers in column A and column headers in rows 3 through 4 (leading dots indicate sub-parts)  \\\n",
       "0                                                 NaN                                                            \n",
       "1                                       Massachusetts                                                            \n",
       "2                                  .Barnstable County                                                            \n",
       "3                                   .Berkshire County                                                            \n",
       "4                                     .Bristol County                                                            \n",
       "5                                       .Dukes County                                                            \n",
       "6                                       .Essex County                                                            \n",
       "7                                    .Franklin County                                                            \n",
       "8                                     .Hampden County                                                            \n",
       "9                                   .Hampshire County                                                            \n",
       "10                                  .Middlesex County                                                            \n",
       "11                                  .Nantucket County                                                            \n",
       "12                                    .Norfolk County                                                            \n",
       "13                                   .Plymouth County                                                            \n",
       "14                                    .Suffolk County                                                            \n",
       "15                                  .Worcester County                                                            \n",
       "\n",
       "    Unnamed: 1  Unnamed: 2  Unnamed: 3  Unnamed: 4  Unnamed: 5  Unnamed: 6  \\\n",
       "0         2010        2011        2012        2013        2014        2015   \n",
       "1      6566307     6613583     6663005     6713315     6762596     6794228   \n",
       "2       215899      215356      214788      214518      214289      213877   \n",
       "3       131317      130547      130284      129488      128856      127858   \n",
       "4       549166      549308      551120      552379      555090      556863   \n",
       "5        16572       16697       16829       17159       17297       17274   \n",
       "6       745461      751507      757338      764563      771653      776865   \n",
       "7        71369       71692       71687       71361       71298       70866   \n",
       "8       464237      466171      466955      467747      469455      469113   \n",
       "9       159329      160154      160419      160856      160918      160709   \n",
       "10     1507681     1524848     1542867     1560204     1574993     1585432   \n",
       "11       10168       10133       10313       10569       10839       10940   \n",
       "12      673019      677782      682865      688345      692239      694502   \n",
       "13      495926      498184      499495      502792      506513      509221   \n",
       "14      725772      737141      751103      762488      773630      782591   \n",
       "15      800391      804063      806942      810846      815526      818117   \n",
       "\n",
       "    Unnamed: 7  Unnamed: 8  Unnamed: 9  Unnamed: 10  \n",
       "0         2016        2017        2018         2019  \n",
       "1      6823608     6859789     6882635      6892503  \n",
       "2       213559      213581      213471       212990  \n",
       "3       127067      126353      125901       124944  \n",
       "4       558070      560941      564092       565217  \n",
       "5        17315       17311       17329        17332  \n",
       "6       779847      784453      788183       789034  \n",
       "7        70622       70605       70611        70180  \n",
       "8       467778      467705      468388       466372  \n",
       "9       161404      161077      161139       160830  \n",
       "10     1594664     1603943     1608470      1611699  \n",
       "11       11100       11205       11198        11399  \n",
       "12      697079      700599      703230       706775  \n",
       "13      512207      515461      518422       521202  \n",
       "14      792576      800806      803147       803907  \n",
       "15      820320      825749      829054       830622  "
      ],
      "text/html": "<div>\n<style scoped>\n    .dataframe tbody tr th:only-of-type {\n        vertical-align: middle;\n    }\n\n    .dataframe tbody tr th {\n        vertical-align: top;\n    }\n\n    .dataframe thead th {\n        text-align: right;\n    }\n</style>\n<table border=\"1\" class=\"dataframe\">\n  <thead>\n    <tr style=\"text-align: right;\">\n      <th></th>\n      <th>table with row headers in column A and column headers in rows 3 through 4 (leading dots indicate sub-parts)</th>\n      <th>Unnamed: 1</th>\n      <th>Unnamed: 2</th>\n      <th>Unnamed: 3</th>\n      <th>Unnamed: 4</th>\n      <th>Unnamed: 5</th>\n      <th>Unnamed: 6</th>\n      <th>Unnamed: 7</th>\n      <th>Unnamed: 8</th>\n      <th>Unnamed: 9</th>\n      <th>Unnamed: 10</th>\n    </tr>\n  </thead>\n  <tbody>\n    <tr>\n      <th>0</th>\n      <td>NaN</td>\n      <td>2010</td>\n      <td>2011</td>\n      <td>2012</td>\n      <td>2013</td>\n      <td>2014</td>\n      <td>2015</td>\n      <td>2016</td>\n      <td>2017</td>\n      <td>2018</td>\n      <td>2019</td>\n    </tr>\n    <tr>\n      <th>1</th>\n      <td>Massachusetts</td>\n      <td>6566307</td>\n      <td>6613583</td>\n      <td>6663005</td>\n      <td>6713315</td>\n      <td>6762596</td>\n      <td>6794228</td>\n      <td>6823608</td>\n      <td>6859789</td>\n      <td>6882635</td>\n      <td>6892503</td>\n    </tr>\n    <tr>\n      <th>2</th>\n      <td>.Barnstable County</td>\n      <td>215899</td>\n      <td>215356</td>\n      <td>214788</td>\n      <td>214518</td>\n      <td>214289</td>\n      <td>213877</td>\n      <td>213559</td>\n      <td>213581</td>\n      <td>213471</td>\n      <td>212990</td>\n    </tr>\n    <tr>\n      <th>3</th>\n      <td>.Berkshire County</td>\n      <td>131317</td>\n      <td>130547</td>\n      <td>130284</td>\n      <td>129488</td>\n      <td>128856</td>\n      <td>127858</td>\n      <td>127067</td>\n      <td>126353</td>\n      <td>125901</td>\n      <td>124944</td>\n    </tr>\n    <tr>\n      <th>4</th>\n      <td>.Bristol County</td>\n      <td>549166</td>\n      <td>549308</td>\n      <td>551120</td>\n      <td>552379</td>\n      <td>555090</td>\n      <td>556863</td>\n      <td>558070</td>\n      <td>560941</td>\n      <td>564092</td>\n      <td>565217</td>\n    </tr>\n    <tr>\n      <th>5</th>\n      <td>.Dukes County</td>\n      <td>16572</td>\n      <td>16697</td>\n      <td>16829</td>\n      <td>17159</td>\n      <td>17297</td>\n      <td>17274</td>\n      <td>17315</td>\n      <td>17311</td>\n      <td>17329</td>\n      <td>17332</td>\n    </tr>\n    <tr>\n      <th>6</th>\n      <td>.Essex County</td>\n      <td>745461</td>\n      <td>751507</td>\n      <td>757338</td>\n      <td>764563</td>\n      <td>771653</td>\n      <td>776865</td>\n      <td>779847</td>\n      <td>784453</td>\n      <td>788183</td>\n      <td>789034</td>\n    </tr>\n    <tr>\n      <th>7</th>\n      <td>.Franklin County</td>\n      <td>71369</td>\n      <td>71692</td>\n      <td>71687</td>\n      <td>71361</td>\n      <td>71298</td>\n      <td>70866</td>\n      <td>70622</td>\n      <td>70605</td>\n      <td>70611</td>\n      <td>70180</td>\n    </tr>\n    <tr>\n      <th>8</th>\n      <td>.Hampden County</td>\n      <td>464237</td>\n      <td>466171</td>\n      <td>466955</td>\n      <td>467747</td>\n      <td>469455</td>\n      <td>469113</td>\n      <td>467778</td>\n      <td>467705</td>\n      <td>468388</td>\n      <td>466372</td>\n    </tr>\n    <tr>\n      <th>9</th>\n      <td>.Hampshire County</td>\n      <td>159329</td>\n      <td>160154</td>\n      <td>160419</td>\n      <td>160856</td>\n      <td>160918</td>\n      <td>160709</td>\n      <td>161404</td>\n      <td>161077</td>\n      <td>161139</td>\n      <td>160830</td>\n    </tr>\n    <tr>\n      <th>10</th>\n      <td>.Middlesex County</td>\n      <td>1507681</td>\n      <td>1524848</td>\n      <td>1542867</td>\n      <td>1560204</td>\n      <td>1574993</td>\n      <td>1585432</td>\n      <td>1594664</td>\n      <td>1603943</td>\n      <td>1608470</td>\n      <td>1611699</td>\n    </tr>\n    <tr>\n      <th>11</th>\n      <td>.Nantucket County</td>\n      <td>10168</td>\n      <td>10133</td>\n      <td>10313</td>\n      <td>10569</td>\n      <td>10839</td>\n      <td>10940</td>\n      <td>11100</td>\n      <td>11205</td>\n      <td>11198</td>\n      <td>11399</td>\n    </tr>\n    <tr>\n      <th>12</th>\n      <td>.Norfolk County</td>\n      <td>673019</td>\n      <td>677782</td>\n      <td>682865</td>\n      <td>688345</td>\n      <td>692239</td>\n      <td>694502</td>\n      <td>697079</td>\n      <td>700599</td>\n      <td>703230</td>\n      <td>706775</td>\n    </tr>\n    <tr>\n      <th>13</th>\n      <td>.Plymouth County</td>\n      <td>495926</td>\n      <td>498184</td>\n      <td>499495</td>\n      <td>502792</td>\n      <td>506513</td>\n      <td>509221</td>\n      <td>512207</td>\n      <td>515461</td>\n      <td>518422</td>\n      <td>521202</td>\n    </tr>\n    <tr>\n      <th>14</th>\n      <td>.Suffolk County</td>\n      <td>725772</td>\n      <td>737141</td>\n      <td>751103</td>\n      <td>762488</td>\n      <td>773630</td>\n      <td>782591</td>\n      <td>792576</td>\n      <td>800806</td>\n      <td>803147</td>\n      <td>803907</td>\n    </tr>\n    <tr>\n      <th>15</th>\n      <td>.Worcester County</td>\n      <td>800391</td>\n      <td>804063</td>\n      <td>806942</td>\n      <td>810846</td>\n      <td>815526</td>\n      <td>818117</td>\n      <td>820320</td>\n      <td>825749</td>\n      <td>829054</td>\n      <td>830622</td>\n    </tr>\n  </tbody>\n</table>\n</div>"
     },
     "metadata": {},
     "execution_count": 2
    }
   ],
   "source": [
    "df"
   ]
  },
  {
   "cell_type": "code",
   "execution_count": 4,
   "metadata": {},
   "outputs": [],
   "source": [
    "df.columns = df.iloc[0]"
   ]
  },
  {
   "cell_type": "code",
   "execution_count": 6,
   "metadata": {},
   "outputs": [],
   "source": [
    "df = df.T"
   ]
  },
  {
   "cell_type": "code",
   "execution_count": 16,
   "metadata": {},
   "outputs": [
    {
     "output_type": "execute_result",
     "data": {
      "text/plain": [
       "nan  Year Massachusetts .Barnstable County .Berkshire County .Bristol County  \\\n",
       "0    2010       6566307             215899            131317          549166   \n",
       "1    2011       6613583             215356            130547          549308   \n",
       "2    2012       6663005             214788            130284          551120   \n",
       "3    2013       6713315             214518            129488          552379   \n",
       "4    2014       6762596             214289            128856          555090   \n",
       "5    2015       6794228             213877            127858          556863   \n",
       "6    2016       6823608             213559            127067          558070   \n",
       "7    2017       6859789             213581            126353          560941   \n",
       "8    2018       6882635             213471            125901          564092   \n",
       "9    2019       6892503             212990            124944          565217   \n",
       "\n",
       "nan .Dukes County .Essex County .Franklin County .Hampden County  \\\n",
       "0           16572        745461            71369          464237   \n",
       "1           16697        751507            71692          466171   \n",
       "2           16829        757338            71687          466955   \n",
       "3           17159        764563            71361          467747   \n",
       "4           17297        771653            71298          469455   \n",
       "5           17274        776865            70866          469113   \n",
       "6           17315        779847            70622          467778   \n",
       "7           17311        784453            70605          467705   \n",
       "8           17329        788183            70611          468388   \n",
       "9           17332        789034            70180          466372   \n",
       "\n",
       "nan .Hampshire County .Middlesex County .Nantucket County .Norfolk County  \\\n",
       "0              159329           1507681             10168          673019   \n",
       "1              160154           1524848             10133          677782   \n",
       "2              160419           1542867             10313          682865   \n",
       "3              160856           1560204             10569          688345   \n",
       "4              160918           1574993             10839          692239   \n",
       "5              160709           1585432             10940          694502   \n",
       "6              161404           1594664             11100          697079   \n",
       "7              161077           1603943             11205          700599   \n",
       "8              161139           1608470             11198          703230   \n",
       "9              160830           1611699             11399          706775   \n",
       "\n",
       "nan .Plymouth County .Suffolk County .Worcester County  \n",
       "0             495926          725772            800391  \n",
       "1             498184          737141            804063  \n",
       "2             499495          751103            806942  \n",
       "3             502792          762488            810846  \n",
       "4             506513          773630            815526  \n",
       "5             509221          782591            818117  \n",
       "6             512207          792576            820320  \n",
       "7             515461          800806            825749  \n",
       "8             518422          803147            829054  \n",
       "9             521202          803907            830622  "
      ],
      "text/html": "<div>\n<style scoped>\n    .dataframe tbody tr th:only-of-type {\n        vertical-align: middle;\n    }\n\n    .dataframe tbody tr th {\n        vertical-align: top;\n    }\n\n    .dataframe thead th {\n        text-align: right;\n    }\n</style>\n<table border=\"1\" class=\"dataframe\">\n  <thead>\n    <tr style=\"text-align: right;\">\n      <th>nan</th>\n      <th>Year</th>\n      <th>Massachusetts</th>\n      <th>.Barnstable County</th>\n      <th>.Berkshire County</th>\n      <th>.Bristol County</th>\n      <th>.Dukes County</th>\n      <th>.Essex County</th>\n      <th>.Franklin County</th>\n      <th>.Hampden County</th>\n      <th>.Hampshire County</th>\n      <th>.Middlesex County</th>\n      <th>.Nantucket County</th>\n      <th>.Norfolk County</th>\n      <th>.Plymouth County</th>\n      <th>.Suffolk County</th>\n      <th>.Worcester County</th>\n    </tr>\n  </thead>\n  <tbody>\n    <tr>\n      <th>0</th>\n      <td>2010</td>\n      <td>6566307</td>\n      <td>215899</td>\n      <td>131317</td>\n      <td>549166</td>\n      <td>16572</td>\n      <td>745461</td>\n      <td>71369</td>\n      <td>464237</td>\n      <td>159329</td>\n      <td>1507681</td>\n      <td>10168</td>\n      <td>673019</td>\n      <td>495926</td>\n      <td>725772</td>\n      <td>800391</td>\n    </tr>\n    <tr>\n      <th>1</th>\n      <td>2011</td>\n      <td>6613583</td>\n      <td>215356</td>\n      <td>130547</td>\n      <td>549308</td>\n      <td>16697</td>\n      <td>751507</td>\n      <td>71692</td>\n      <td>466171</td>\n      <td>160154</td>\n      <td>1524848</td>\n      <td>10133</td>\n      <td>677782</td>\n      <td>498184</td>\n      <td>737141</td>\n      <td>804063</td>\n    </tr>\n    <tr>\n      <th>2</th>\n      <td>2012</td>\n      <td>6663005</td>\n      <td>214788</td>\n      <td>130284</td>\n      <td>551120</td>\n      <td>16829</td>\n      <td>757338</td>\n      <td>71687</td>\n      <td>466955</td>\n      <td>160419</td>\n      <td>1542867</td>\n      <td>10313</td>\n      <td>682865</td>\n      <td>499495</td>\n      <td>751103</td>\n      <td>806942</td>\n    </tr>\n    <tr>\n      <th>3</th>\n      <td>2013</td>\n      <td>6713315</td>\n      <td>214518</td>\n      <td>129488</td>\n      <td>552379</td>\n      <td>17159</td>\n      <td>764563</td>\n      <td>71361</td>\n      <td>467747</td>\n      <td>160856</td>\n      <td>1560204</td>\n      <td>10569</td>\n      <td>688345</td>\n      <td>502792</td>\n      <td>762488</td>\n      <td>810846</td>\n    </tr>\n    <tr>\n      <th>4</th>\n      <td>2014</td>\n      <td>6762596</td>\n      <td>214289</td>\n      <td>128856</td>\n      <td>555090</td>\n      <td>17297</td>\n      <td>771653</td>\n      <td>71298</td>\n      <td>469455</td>\n      <td>160918</td>\n      <td>1574993</td>\n      <td>10839</td>\n      <td>692239</td>\n      <td>506513</td>\n      <td>773630</td>\n      <td>815526</td>\n    </tr>\n    <tr>\n      <th>5</th>\n      <td>2015</td>\n      <td>6794228</td>\n      <td>213877</td>\n      <td>127858</td>\n      <td>556863</td>\n      <td>17274</td>\n      <td>776865</td>\n      <td>70866</td>\n      <td>469113</td>\n      <td>160709</td>\n      <td>1585432</td>\n      <td>10940</td>\n      <td>694502</td>\n      <td>509221</td>\n      <td>782591</td>\n      <td>818117</td>\n    </tr>\n    <tr>\n      <th>6</th>\n      <td>2016</td>\n      <td>6823608</td>\n      <td>213559</td>\n      <td>127067</td>\n      <td>558070</td>\n      <td>17315</td>\n      <td>779847</td>\n      <td>70622</td>\n      <td>467778</td>\n      <td>161404</td>\n      <td>1594664</td>\n      <td>11100</td>\n      <td>697079</td>\n      <td>512207</td>\n      <td>792576</td>\n      <td>820320</td>\n    </tr>\n    <tr>\n      <th>7</th>\n      <td>2017</td>\n      <td>6859789</td>\n      <td>213581</td>\n      <td>126353</td>\n      <td>560941</td>\n      <td>17311</td>\n      <td>784453</td>\n      <td>70605</td>\n      <td>467705</td>\n      <td>161077</td>\n      <td>1603943</td>\n      <td>11205</td>\n      <td>700599</td>\n      <td>515461</td>\n      <td>800806</td>\n      <td>825749</td>\n    </tr>\n    <tr>\n      <th>8</th>\n      <td>2018</td>\n      <td>6882635</td>\n      <td>213471</td>\n      <td>125901</td>\n      <td>564092</td>\n      <td>17329</td>\n      <td>788183</td>\n      <td>70611</td>\n      <td>468388</td>\n      <td>161139</td>\n      <td>1608470</td>\n      <td>11198</td>\n      <td>703230</td>\n      <td>518422</td>\n      <td>803147</td>\n      <td>829054</td>\n    </tr>\n    <tr>\n      <th>9</th>\n      <td>2019</td>\n      <td>6892503</td>\n      <td>212990</td>\n      <td>124944</td>\n      <td>565217</td>\n      <td>17332</td>\n      <td>789034</td>\n      <td>70180</td>\n      <td>466372</td>\n      <td>160830</td>\n      <td>1611699</td>\n      <td>11399</td>\n      <td>706775</td>\n      <td>521202</td>\n      <td>803907</td>\n      <td>830622</td>\n    </tr>\n  </tbody>\n</table>\n</div>"
     },
     "metadata": {},
     "execution_count": 16
    }
   ],
   "source": [
    "df"
   ]
  },
  {
   "cell_type": "code",
   "execution_count": 8,
   "metadata": {},
   "outputs": [],
   "source": [
    "df.columns = df.iloc[0]"
   ]
  },
  {
   "cell_type": "code",
   "execution_count": 11,
   "metadata": {},
   "outputs": [],
   "source": [
    "df = df.iloc[1:,:].reset_index(drop=True)"
   ]
  },
  {
   "cell_type": "code",
   "execution_count": 15,
   "metadata": {},
   "outputs": [],
   "source": [
    "import numpy as np\n",
    "df = df.rename(columns={np.nan: 'Year'})"
   ]
  },
  {
   "cell_type": "code",
   "execution_count": 23,
   "metadata": {},
   "outputs": [
    {
     "output_type": "display_data",
     "data": {
      "text/plain": "<Figure size 432x288 with 1 Axes>",
      "image/png": "[encoded data removed]"
     },
     "metadata": {
      "needs_background": "light"
     }
    }
   ],
   "source": [
    "import matplotlib.pyplot as plt\n",
    "df.plot(x ='Year', y='Massachusetts', kind = 'line')\n",
    "plt.ylabel(\"Population\", labelpad=15)\n",
    "plt.title(\"Population Change in MA from 2010 to 2019\", y=1.02, fontsize=12);"
   ]
  },
  {
   "cell_type": "code",
   "execution_count": 30,
   "metadata": {},
   "outputs": [],
   "source": [
    "df = df.set_index('Year')"
   ]
  },
  {
   "cell_type": "code",
   "execution_count": 31,
   "metadata": {},
   "outputs": [
    {
     "output_type": "execute_result",
     "data": {
      "text/plain": [
       "nan   Massachusetts  .Barnstable County  .Berkshire County  .Bristol County  \\\n",
       "Year                                                                          \n",
       "2010            NaN                 NaN                NaN              NaN   \n",
       "2011       0.007200           -0.002515          -0.005864         0.000259   \n",
       "2012       0.007473           -0.002637          -0.002015         0.003299   \n",
       "2013       0.007551           -0.001257          -0.006110         0.002284   \n",
       "2014       0.007341           -0.001068          -0.004881         0.004908   \n",
       "2015       0.004677           -0.001923          -0.007745         0.003194   \n",
       "2016       0.004324           -0.001487          -0.006187         0.002167   \n",
       "2017       0.005302            0.000103          -0.005619         0.005145   \n",
       "2018       0.003330           -0.000515          -0.003577         0.005617   \n",
       "2019       0.001434           -0.002253          -0.007601         0.001994   \n",
       "\n",
       "nan   .Dukes County  .Essex County  .Franklin County  .Hampden County  \\\n",
       "Year                                                                    \n",
       "2010            NaN            NaN               NaN              NaN   \n",
       "2011       0.007543       0.008110          0.004526         0.004166   \n",
       "2012       0.007906       0.007759         -0.000070         0.001682   \n",
       "2013       0.019609       0.009540         -0.004548         0.001696   \n",
       "2014       0.008042       0.009273         -0.000883         0.003652   \n",
       "2015      -0.001330       0.006754         -0.006059        -0.000729   \n",
       "2016       0.002374       0.003839         -0.003443        -0.002846   \n",
       "2017      -0.000231       0.005906         -0.000241        -0.000156   \n",
       "2018       0.001040       0.004755          0.000085         0.001460   \n",
       "2019       0.000173       0.001080         -0.006104        -0.004304   \n",
       "\n",
       "nan   .Hampshire County  .Middlesex County  .Nantucket County  \\\n",
       "Year                                                            \n",
       "2010                NaN                NaN                NaN   \n",
       "2011           0.005178           0.011386          -0.003442   \n",
       "2012           0.001655           0.011817           0.017764   \n",
       "2013           0.002724           0.011237           0.024823   \n",
       "2014           0.000385           0.009479           0.025546   \n",
       "2015          -0.001299           0.006628           0.009318   \n",
       "2016           0.004325           0.005823           0.014625   \n",
       "2017          -0.002026           0.005819           0.009459   \n",
       "2018           0.000385           0.002822          -0.000625   \n",
       "2019          -0.001918           0.002007           0.017950   \n",
       "\n",
       "nan   .Norfolk County  .Plymouth County  .Suffolk County  .Worcester County  \n",
       "Year                                                                         \n",
       "2010              NaN               NaN              NaN                NaN  \n",
       "2011         0.007077          0.004553         0.015665           0.004588  \n",
       "2012         0.007499          0.002632         0.018941           0.003581  \n",
       "2013         0.008025          0.006601         0.015158           0.004838  \n",
       "2014         0.005657          0.007401         0.014613           0.005772  \n",
       "2015         0.003269          0.005346         0.011583           0.003177  \n",
       "2016         0.003711          0.005864         0.012759           0.002693  \n",
       "2017         0.005050          0.006353         0.010384           0.006618  \n",
       "2018         0.003755          0.005744         0.002923           0.004002  \n",
       "2019         0.005041          0.005362         0.000946           0.001891  "
      ],
      "text/html": "<div>\n<style scoped>\n    .dataframe tbody tr th:only-of-type {\n        vertical-align: middle;\n    }\n\n    .dataframe tbody tr th {\n        vertical-align: top;\n    }\n\n    .dataframe thead th {\n        text-align: right;\n    }\n</style>\n<table border=\"1\" class=\"dataframe\">\n  <thead>\n    <tr style=\"text-align: right;\">\n      <th>nan</th>\n      <th>Massachusetts</th>\n      <th>.Barnstable County</th>\n      <th>.Berkshire County</th>\n      <th>.Bristol County</th>\n      <th>.Dukes County</th>\n      <th>.Essex County</th>\n      <th>.Franklin County</th>\n      <th>.Hampden County</th>\n      <th>.Hampshire County</th>\n      <th>.Middlesex County</th>\n      <th>.Nantucket County</th>\n      <th>.Norfolk County</th>\n      <th>.Plymouth County</th>\n      <th>.Suffolk County</th>\n      <th>.Worcester County</th>\n    </tr>\n    <tr>\n      <th>Year</th>\n      <th></th>\n      <th></th>\n      <th></th>\n      <th></th>\n      <th></th>\n      <th></th>\n      <th></th>\n      <th></th>\n      <th></th>\n      <th></th>\n      <th></th>\n      <th></th>\n      <th></th>\n      <th></th>\n      <th></th>\n    </tr>\n  </thead>\n  <tbody>\n    <tr>\n      <th>2010</th>\n      <td>NaN</td>\n      <td>NaN</td>\n      <td>NaN</td>\n      <td>NaN</td>\n      <td>NaN</td>\n      <td>NaN</td>\n      <td>NaN</td>\n      <td>NaN</td>\n      <td>NaN</td>\n      <td>NaN</td>\n      <td>NaN</td>\n      <td>NaN</td>\n      <td>NaN</td>\n      <td>NaN</td>\n      <td>NaN</td>\n    </tr>\n    <tr>\n      <th>2011</th>\n      <td>0.007200</td>\n      <td>-0.002515</td>\n      <td>-0.005864</td>\n      <td>0.000259</td>\n      <td>0.007543</td>\n      <td>0.008110</td>\n      <td>0.004526</td>\n      <td>0.004166</td>\n      <td>0.005178</td>\n      <td>0.011386</td>\n      <td>-0.003442</td>\n      <td>0.007077</td>\n      <td>0.004553</td>\n      <td>0.015665</td>\n      <td>0.004588</td>\n    </tr>\n    <tr>\n      <th>2012</th>\n      <td>0.007473</td>\n      <td>-0.002637</td>\n      <td>-0.002015</td>\n      <td>0.003299</td>\n      <td>0.007906</td>\n      <td>0.007759</td>\n      <td>-0.000070</td>\n      <td>0.001682</td>\n      <td>0.001655</td>\n      <td>0.011817</td>\n      <td>0.017764</td>\n      <td>0.007499</td>\n      <td>0.002632</td>\n      <td>0.018941</td>\n      <td>0.003581</td>\n    </tr>\n    <tr>\n      <th>2013</th>\n      <td>0.007551</td>\n      <td>-0.001257</td>\n      <td>-0.006110</td>\n      <td>0.002284</td>\n      <td>0.019609</td>\n      <td>0.009540</td>\n      <td>-0.004548</td>\n      <td>0.001696</td>\n      <td>0.002724</td>\n      <td>0.011237</td>\n      <td>0.024823</td>\n      <td>0.008025</td>\n      <td>0.006601</td>\n      <td>0.015158</td>\n      <td>0.004838</td>\n    </tr>\n    <tr>\n      <th>2014</th>\n      <td>0.007341</td>\n      <td>-0.001068</td>\n      <td>-0.004881</td>\n      <td>0.004908</td>\n      <td>0.008042</td>\n      <td>0.009273</td>\n      <td>-0.000883</td>\n      <td>0.003652</td>\n      <td>0.000385</td>\n      <td>0.009479</td>\n      <td>0.025546</td>\n      <td>0.005657</td>\n      <td>0.007401</td>\n      <td>0.014613</td>\n      <td>0.005772</td>\n    </tr>\n    <tr>\n      <th>2015</th>\n      <td>0.004677</td>\n      <td>-0.001923</td>\n      <td>-0.007745</td>\n      <td>0.003194</td>\n      <td>-0.001330</td>\n      <td>0.006754</td>\n      <td>-0.006059</td>\n      <td>-0.000729</td>\n      <td>-0.001299</td>\n      <td>0.006628</td>\n      <td>0.009318</td>\n      <td>0.003269</td>\n      <td>0.005346</td>\n      <td>0.011583</td>\n      <td>0.003177</td>\n    </tr>\n    <tr>\n      <th>2016</th>\n      <td>0.004324</td>\n      <td>-0.001487</td>\n      <td>-0.006187</td>\n      <td>0.002167</td>\n      <td>0.002374</td>\n      <td>0.003839</td>\n      <td>-0.003443</td>\n      <td>-0.002846</td>\n      <td>0.004325</td>\n      <td>0.005823</td>\n      <td>0.014625</td>\n      <td>0.003711</td>\n      <td>0.005864</td>\n      <td>0.012759</td>\n      <td>0.002693</td>\n    </tr>\n    <tr>\n      <th>2017</th>\n      <td>0.005302</td>\n      <td>0.000103</td>\n      <td>-0.005619</td>\n      <td>0.005145</td>\n      <td>-0.000231</td>\n      <td>0.005906</td>\n      <td>-0.000241</td>\n      <td>-0.000156</td>\n      <td>-0.002026</td>\n      <td>0.005819</td>\n      <td>0.009459</td>\n      <td>0.005050</td>\n      <td>0.006353</td>\n      <td>0.010384</td>\n      <td>0.006618</td>\n    </tr>\n    <tr>\n      <th>2018</th>\n      <td>0.003330</td>\n      <td>-0.000515</td>\n      <td>-0.003577</td>\n      <td>0.005617</td>\n      <td>0.001040</td>\n      <td>0.004755</td>\n      <td>0.000085</td>\n      <td>0.001460</td>\n      <td>0.000385</td>\n      <td>0.002822</td>\n      <td>-0.000625</td>\n      <td>0.003755</td>\n      <td>0.005744</td>\n      <td>0.002923</td>\n      <td>0.004002</td>\n    </tr>\n    <tr>\n      <th>2019</th>\n      <td>0.001434</td>\n      <td>-0.002253</td>\n      <td>-0.007601</td>\n      <td>0.001994</td>\n      <td>0.000173</td>\n      <td>0.001080</td>\n      <td>-0.006104</td>\n      <td>-0.004304</td>\n      <td>-0.001918</td>\n      <td>0.002007</td>\n      <td>0.017950</td>\n      <td>0.005041</td>\n      <td>0.005362</td>\n      <td>0.000946</td>\n      <td>0.001891</td>\n    </tr>\n  </tbody>\n</table>\n</div>"
     },
     "metadata": {},
     "execution_count": 31
    }
   ],
   "source": [
    "df.pct_change()"
   ]
  }
 ]
}