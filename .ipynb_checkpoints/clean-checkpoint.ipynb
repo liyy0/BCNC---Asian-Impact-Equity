{
 "cells": [
  {
   "cell_type": "code",
   "execution_count": null,
   "id": "0a2113b6",
   "metadata": {},
   "outputs": [],
   "source": [
    "import pandas as pd\n",
    "import matplotlib.pyplot as plt\n",
    "df = read_csv(\"MA Immigration Data2.xlsx - Sheet1.csv\")\n",
    "\n",
    "my_data = [value1,value2,value3,...]\n",
    "my_labels = 'label1','label2','label3',...\n",
    "plt.pie(my_data,labels=my_labels,autopct='%1.1f%%')\n",
    "plt.title('My Title')\n",
    "plt.axis('equal')\n",
    "plt.show()"
   ]
  }
 ],
 "metadata": {
  "kernelspec": {
   "display_name": "Python 3",
   "language": "python",
   "name": "python3"
  },
  "language_info": {
   "codemirror_mode": {
    "name": "ipython",
    "version": 3
   },
   "file_extension": ".py",
   "mimetype": "text/x-python",
   "name": "python",
   "nbconvert_exporter": "python",
   "pygments_lexer": "ipython3",
   "version": "3.8.8"
  }
 },
 "nbformat": 4,
 "nbformat_minor": 5
}
